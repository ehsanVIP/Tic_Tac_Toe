{
 "cells": [
  {
   "cell_type": "code",
   "execution_count": 7,
   "metadata": {},
   "outputs": [],
   "source": [
    "def checkInput(r, c, table):\n",
    "    if (r > 2 or c > 2 ) :\n",
    "        return False\n",
    "#     if r == 0:\n",
    "#         if (rowA[c] != \".\" ):\n",
    "#             return False\n",
    "#         else: return True\n",
    "#     if r == 1:\n",
    "#         if (rowB[c] != \".\" ):\n",
    "#             return False\n",
    "#         else: return True\n",
    "#     if r == 2:\n",
    "#         if (rowC[c] != \".\" ):\n",
    "#             return False\n",
    "    if table[r][c] != \".\":\n",
    "        return False\n",
    "    else: \n",
    "        return True"
   ]
  },
  {
   "cell_type": "code",
   "execution_count": 2,
   "metadata": {},
   "outputs": [],
   "source": [
    "def checkTerminateState(table):\n",
    "    if (table[0][0] == table[0][1]) and (table[0][0] == table[0][2]) and (table[0][2] != \".\") :\n",
    "        printer(table)\n",
    "        print(\"\\n\",table[0][2] ,\"is Winner !\")\n",
    "        return True\n",
    "    if (table[1][0] == table[1][1]) and (table[1][0] == table[1][2]) and (table[1][2] != \".\") :\n",
    "        printer(table)\n",
    "        print(\"\\n\",table[1][2] ,\"is Winner !\")\n",
    "        return True\n",
    "    if (table[2][0] == table[2][1]) and (table[2][0] == table[2][2]) and (table[2][2] != \".\") :\n",
    "        printer(table)\n",
    "        print(\"\\n\",table[2][2] ,\"is Winner !\")\n",
    "        return True\n",
    "    if (table[0][0] == table[1][0]) and (table[1][0] == table[2][0]) and (table[2][0] != \".\") :\n",
    "        printer(table)\n",
    "        print(\"\\n\",table[2][0] ,\"is Winner !\")\n",
    "        return True\n",
    "    if (table[0][1] == table[1][1]) and (table[1][1] == table[2][1]) and (table[2][1] != \".\") :\n",
    "        printer(table)\n",
    "        print(\"\\n\",table[2][1] ,\"is Winner !\")\n",
    "        return True\n",
    "    if (table[0][2] == table[1][2]) and (table[1][2] == table[2][2]) and (table[2][2] != \".\") :\n",
    "        printer(table)\n",
    "        print(\"\\n\", table[2][2] ,\"is Winner !\")\n",
    "        return True\n",
    "    if (table[0][0] == table[1][1]) and (table[1][1] == table[2][2]) and (table[2][2] != \".\") :\n",
    "        printer(table)\n",
    "        print(\"\\n\",table[2][2] ,\"is Winner !\")\n",
    "        return True\n",
    "    if (table[0][2] == table[1][1]) and (table[1][1] == table[2][0]) and (table[2][0] != \".\") :\n",
    "        printer(table)\n",
    "        print(\"\\n\",table[2][0] ,\"is Winner !\")\n",
    "        return True\n",
    "    if \".\" not in table:\n",
    "        printer(table)\n",
    "        print(\"\\n\",'Draw')\n",
    "        return True"
   ]
  },
  {
   "cell_type": "code",
   "execution_count": 9,
   "metadata": {},
   "outputs": [],
   "source": [
    "\n",
    "def printer(table):\n",
    "    print(\"   0     1     2\")\n",
    "    print(\"0 \", end=\" \")\n",
    "    for i in range(len(table[0])):\n",
    "        print(table[0][i], end=\" \")\n",
    "        if i != (len(table[1])-1):\n",
    "            print(\" | \", end= \" \")\n",
    "    print(\"\\n  ---------------\")\n",
    "    print(\"1 \", end=\" \")\n",
    "    for i in range(len(table[1])):\n",
    "        print(table[1][i], end=\" \")\n",
    "        if i != (len(table[1])-1):\n",
    "            print(\" | \", end= \" \")\n",
    "    print(\"\\n  ---------------\")\n",
    "    print(\"2 \", end=\" \")\n",
    "    for i in range(len(table[2])):\n",
    "        print(table[2][i], end=\" \")\n",
    "        if i != (len(table[2])-1):\n",
    "            print(\" | \", end= \" \")"
   ]
  },
  {
   "cell_type": "code",
   "execution_count": 1,
   "metadata": {},
   "outputs": [
    {
     "ename": "NameError",
     "evalue": "name 'printer' is not defined",
     "output_type": "error",
     "traceback": [
      "\u001b[0;31m---------------------------------------------------------------------------\u001b[0m",
      "\u001b[0;31mNameError\u001b[0m                                 Traceback (most recent call last)",
      "\u001b[0;32m<ipython-input-1-9a0413248a04>\u001b[0m in \u001b[0;36m<module>\u001b[0;34m()\u001b[0m\n\u001b[1;32m      4\u001b[0m \u001b[0mtable\u001b[0m \u001b[0;34m=\u001b[0m \u001b[0mnp\u001b[0m\u001b[0;34m.\u001b[0m\u001b[0marray\u001b[0m\u001b[0;34m(\u001b[0m\u001b[0;34m[\u001b[0m\u001b[0;34m[\u001b[0m\u001b[0;34m\".\"\u001b[0m\u001b[0;34m,\u001b[0m\u001b[0;34m\".\"\u001b[0m\u001b[0;34m,\u001b[0m\u001b[0;34m\".\"\u001b[0m\u001b[0;34m]\u001b[0m\u001b[0;34m,\u001b[0m\u001b[0;34m[\u001b[0m\u001b[0;34m\".\"\u001b[0m\u001b[0;34m,\u001b[0m\u001b[0;34m\".\"\u001b[0m\u001b[0;34m,\u001b[0m\u001b[0;34m\".\"\u001b[0m\u001b[0;34m]\u001b[0m\u001b[0;34m,\u001b[0m\u001b[0;34m[\u001b[0m\u001b[0;34m\".\"\u001b[0m\u001b[0;34m,\u001b[0m\u001b[0;34m\".\"\u001b[0m\u001b[0;34m,\u001b[0m\u001b[0;34m\".\"\u001b[0m\u001b[0;34m]\u001b[0m\u001b[0;34m]\u001b[0m\u001b[0;34m)\u001b[0m\u001b[0;34m\u001b[0m\u001b[0;34m\u001b[0m\u001b[0m\n\u001b[1;32m      5\u001b[0m \u001b[0;34m\u001b[0m\u001b[0m\n\u001b[0;32m----> 6\u001b[0;31m \u001b[0mprinter\u001b[0m\u001b[0;34m(\u001b[0m\u001b[0mtable\u001b[0m\u001b[0;34m)\u001b[0m\u001b[0;34m\u001b[0m\u001b[0;34m\u001b[0m\u001b[0m\n\u001b[0m\u001b[1;32m      7\u001b[0m \u001b[0mturn\u001b[0m \u001b[0;34m=\u001b[0m \u001b[0minput\u001b[0m\u001b[0;34m(\u001b[0m\u001b[0;34m\"\\nWho wants to Start ? X/O : \"\u001b[0m\u001b[0;34m)\u001b[0m\u001b[0;34m\u001b[0m\u001b[0;34m\u001b[0m\u001b[0m\n\u001b[1;32m      8\u001b[0m \u001b[0;32mif\u001b[0m \u001b[0mturn\u001b[0m \u001b[0;34m==\u001b[0m \u001b[0;34m\"X\"\u001b[0m\u001b[0;34m:\u001b[0m\u001b[0;34m\u001b[0m\u001b[0;34m\u001b[0m\u001b[0m\n",
      "\u001b[0;31mNameError\u001b[0m: name 'printer' is not defined"
     ]
    }
   ],
   "source": [
    "import numpy as np\n",
    "\n",
    "\n",
    "table = np.array([[\".\",\".\",\".\"],[\".\",\".\",\".\"],[\".\",\".\",\".\"]])\n",
    "\n",
    "printer(table)\n",
    "turn = input(\"\\nWho wants to Start ? X/O : \")\n",
    "if turn == \"X\":\n",
    "    turn_x = True\n",
    "else : turn_x = False\n",
    "\n",
    "while(True):\n",
    "\n",
    "    if turn_x:\n",
    "        inp = input(\"\\nPlayer X : \")\n",
    "        r = int(inp[0])\n",
    "        c = int(inp[1])\n",
    "        if checkInput(r, c, table):\n",
    "            table[r][c] = 'X'\n",
    "            turn_x = False\n",
    "            \n",
    "            if checkTerminateState(table):\n",
    "                break\n",
    "        else : print('\\nInput Error')\n",
    "    else:   \n",
    "        inp = input(\"\\nPlayer O : \")\n",
    "        r = int(inp[0])\n",
    "        c = int(inp[1])\n",
    "        if checkInput(r, c, table):\n",
    "            table[r][c] = 'O'\n",
    "            turn_x = True\n",
    "            \n",
    "            if checkTerminateState(table):\n",
    "                break\n",
    "        else : print('\\nInput Error')\n",
    "        \n",
    "    printer(table)"
   ]
  },
  {
   "cell_type": "markdown",
   "metadata": {},
   "source": [
    "Just Check for Printing :"
   ]
  },
  {
   "cell_type": "code",
   "execution_count": null,
   "metadata": {},
   "outputs": [],
   "source": [
    "table = np.array([[\".\",\".\",\".\"],[\".\",\".\",\".\"],[\".\",\".\",\".\"]])\n",
    "printer(table)"
   ]
  },
  {
   "cell_type": "code",
   "execution_count": null,
   "metadata": {},
   "outputs": [],
   "source": []
  },
  {
   "cell_type": "code",
   "execution_count": null,
   "metadata": {},
   "outputs": [],
   "source": []
  }
 ],
 "metadata": {
  "kernelspec": {
   "display_name": "Python 3",
   "language": "python",
   "name": "python3"
  },
  "language_info": {
   "codemirror_mode": {
    "name": "ipython",
    "version": 3
   },
   "file_extension": ".py",
   "mimetype": "text/x-python",
   "name": "python",
   "nbconvert_exporter": "python",
   "pygments_lexer": "ipython3",
   "version": "3.6.9"
  }
 },
 "nbformat": 4,
 "nbformat_minor": 2
}
